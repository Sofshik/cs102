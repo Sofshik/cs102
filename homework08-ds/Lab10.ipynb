{
  "nbformat": 4,
  "nbformat_minor": 0,
  "metadata": {
    "kernelspec": {
      "display_name": "Python 3",
      "language": "python",
      "name": "python3"
    },
    "language_info": {
      "codemirror_mode": {
        "name": "ipython",
        "version": 3
      },
      "file_extension": ".py",
      "mimetype": "text/x-python",
      "name": "python",
      "nbconvert_exporter": "python",
      "pygments_lexer": "ipython3",
      "version": "3.7.6"
    },
    "colab": {
      "name": "Lab10.ipynb",
      "provenance": []
    }
  },
  "cells": [
    {
      "cell_type": "code",
      "metadata": {
        "id": "yJeS_Rt0TbUn"
      },
      "source": [
        "# Логистическая регрессия датасета \"Iris\""
      ],
      "execution_count": null,
      "outputs": []
    },
    {
      "cell_type": "code",
      "metadata": {
        "id": "QpOB2ICgTbUp"
      },
      "source": [
        "# импортируем модули для работы\n",
        "import pandas as pd\n",
        "import math\n",
        "import numpy as np\n",
        "from sklearn.model_selection import train_test_split\n",
        "from sklearn import datasets\n",
        "from sklearn.metrics import roc_curve, auc, accuracy_score, confusion_matrix\n",
        "from sklearn.model_selection import train_test_split\n",
        "from sklearn.datasets import make_classification\n",
        "from matplotlib import pylab\n",
        "import pylab as plt\n",
        "import scipy\n",
        "%matplotlib inline"
      ],
      "execution_count": 1,
      "outputs": []
    },
    {
      "cell_type": "code",
      "metadata": {
        "id": "klwzXAz8TbU2"
      },
      "source": [
        "iris = datasets.load_iris()\n",
        "X = iris.data[:100, :2]\n",
        "y = iris.target[:100]"
      ],
      "execution_count": 9,
      "outputs": []
    },
    {
      "cell_type": "code",
      "metadata": {
        "id": "OL1_9utaTbVL"
      },
      "source": [
        "class LogRegression:\n",
        "    def __init__(self, lr=0.01, n_iter=100):\n",
        "        self.lr = lr\n",
        "        self.n_iter = n_iter\n",
        "        \n",
        "    def fit(self, X, y):\n",
        "        X = np.hstack([np.ones((len(X), 1)), X])\n",
        "        self.theta = np.zeros(X.shape[1])\n",
        "        for i in range(self.n_iter):\n",
        "            z = X @ self.theta\n",
        "            p =  1 / (1 + np.exp(-z))\n",
        "            gradient = (X.T @ (p - y)) / len(y)\n",
        "            self.theta -= self.lr * gradient\n",
        "\n",
        "        \n",
        "    def predict(self, X):\n",
        "        X = np.hstack([np.ones((len(X), 1)), X])\n",
        "        pred = (1 / (1 + np.exp(-(X @ self.theta))))\n",
        "        return [1 if i > 0.5 else 0 for i in pred]\n",
        "\n",
        "    def p_tryout(self, X):\n",
        "      tryout = sigmoid(X)\n",
        "      scipy.special.expit(tryout, out=tryout)\n",
        "      if tryout.ndim == 1:\n",
        "          return np.vstack([1 - tryout, tryout]).T\n",
        "      else:\n",
        "          tryout /= tryout.sum(axis=1).reshape((tryout.shape[0], -1))\n",
        "          return tryout"
      ],
      "execution_count": 18,
      "outputs": []
    },
    {
      "cell_type": "code",
      "metadata": {
        "id": "rplou1HsTbVO"
      },
      "source": [
        "X_train, X_test, Y_train, Y_test = train_test_split(X, y, test_size=0.33, random_state=18)"
      ],
      "execution_count": 19,
      "outputs": []
    },
    {
      "cell_type": "code",
      "metadata": {
        "colab": {
          "base_uri": "https://localhost:8080/"
        },
        "id": "KJJoS5O-TbVQ",
        "outputId": "956ceac8-22c7-4173-a3b8-fbe5289ad606"
      },
      "source": [
        "model = LogRegression()\n",
        "%time model.fit(X_train, Y_train)"
      ],
      "execution_count": 20,
      "outputs": [
        {
          "output_type": "stream",
          "text": [
            "CPU times: user 2.74 ms, sys: 0 ns, total: 2.74 ms\n",
            "Wall time: 2.78 ms\n"
          ],
          "name": "stdout"
        }
      ]
    },
    {
      "cell_type": "code",
      "metadata": {
        "colab": {
          "base_uri": "https://localhost:8080/"
        },
        "id": "LBmbk7LTTbVU",
        "outputId": "e356ab88-7420-4036-c511-fcdb45c2943c"
      },
      "source": [
        "y_pred = model.predict(X_test)\n",
        "y_pred"
      ],
      "execution_count": 21,
      "outputs": [
        {
          "output_type": "execute_result",
          "data": {
            "text/plain": [
              "[1,\n",
              " 1,\n",
              " 1,\n",
              " 1,\n",
              " 0,\n",
              " 1,\n",
              " 1,\n",
              " 1,\n",
              " 0,\n",
              " 1,\n",
              " 1,\n",
              " 1,\n",
              " 1,\n",
              " 1,\n",
              " 1,\n",
              " 0,\n",
              " 1,\n",
              " 1,\n",
              " 0,\n",
              " 1,\n",
              " 1,\n",
              " 1,\n",
              " 1,\n",
              " 1,\n",
              " 1,\n",
              " 1,\n",
              " 1,\n",
              " 0,\n",
              " 1,\n",
              " 1,\n",
              " 1,\n",
              " 0,\n",
              " 1]"
            ]
          },
          "metadata": {
            "tags": []
          },
          "execution_count": 21
        }
      ]
    },
    {
      "cell_type": "code",
      "metadata": {
        "colab": {
          "base_uri": "https://localhost:8080/"
        },
        "id": "PBfdMU5_TbVW",
        "outputId": "1ec971df-4395-48d5-d506-25cda1707447"
      },
      "source": [
        "model.theta"
      ],
      "execution_count": 22,
      "outputs": [
        {
          "output_type": "execute_result",
          "data": {
            "text/plain": [
              "array([-0.01357655,  0.13971783, -0.19136099])"
            ]
          },
          "metadata": {
            "tags": []
          },
          "execution_count": 22
        }
      ]
    },
    {
      "cell_type": "code",
      "metadata": {
        "colab": {
          "base_uri": "https://localhost:8080/"
        },
        "id": "Uw7Eez-cZpiq",
        "outputId": "a7677dce-ace1-4aba-fe27-8ca44305403a"
      },
      "source": [
        "accuracy_score(Y_test, y_pred)"
      ],
      "execution_count": 23,
      "outputs": [
        {
          "output_type": "execute_result",
          "data": {
            "text/plain": [
              "0.6363636363636364"
            ]
          },
          "metadata": {
            "tags": []
          },
          "execution_count": 23
        }
      ]
    },
    {
      "cell_type": "code",
      "metadata": {
        "id": "Ssc48eZHV-vw"
      },
      "source": [
        "def sigmoid(x):\n",
        "    sigmoid_return = 1 / (1 + np.exp(-x))\n",
        "    return sigmoid_return"
      ],
      "execution_count": 25,
      "outputs": []
    },
    {
      "cell_type": "code",
      "metadata": {
        "id": "us2NQI3dTbVc"
      },
      "source": [
        "x = model.theta\n",
        "y = pylab.linspace(0,1,10)"
      ],
      "execution_count": 24,
      "outputs": []
    },
    {
      "cell_type": "code",
      "metadata": {
        "colab": {
          "base_uri": "https://localhost:8080/",
          "height": 312
        },
        "id": "qrGqKkoHTbVf",
        "outputId": "3a918d01-4650-4814-9c65-1a0fc8de3464"
      },
      "source": [
        "pylab.plot(x, sigmoid(x), 'r')\n",
        "pylab.grid()\n",
        "pylab.title('Sigmoid Function')\n",
        "pylab.xlabel('X Axis')\n",
        "pylab.ylabel('Y Axis')"
      ],
      "execution_count": 26,
      "outputs": [
        {
          "output_type": "execute_result",
          "data": {
            "text/plain": [
              "Text(0, 0.5, 'Y Axis')"
            ]
          },
          "metadata": {
            "tags": []
          },
          "execution_count": 26
        },
        {
          "output_type": "display_data",
          "data": {
            "image/png": "[encoded data removed]",
            "text/plain": [
              "<Figure size 432x288 with 1 Axes>"
            ]
          },
          "metadata": {
            "tags": [],
            "needs_background": "light"
          }
        }
      ]
    },
    {
      "cell_type": "markdown",
      "metadata": {
        "id": "0ouOyAPTWWve"
      },
      "source": [
        "Проверка:"
      ]
    },
    {
      "cell_type": "code",
      "metadata": {
        "id": "2UB0bDW1WWE3"
      },
      "source": [
        "X, y = make_classification(n_samples=10000, n_features=10, n_classes=2, n_informative=5, random_state=17)\n",
        "X_train, X_test, y_train, y_test = train_test_split(X, y, test_size=0.3, random_state=17)\n",
        "model = LogRegression()\n",
        "model.fit(X_train, y_train)\n",
        "y_pred = model.predict(X_test)"
      ],
      "execution_count": 27,
      "outputs": []
    },
    {
      "cell_type": "code",
      "metadata": {
        "colab": {
          "base_uri": "https://localhost:8080/"
        },
        "id": "2N9-3I3_XWOs",
        "outputId": "d34d8386-0910-4283-e50c-a3549a2bc301"
      },
      "source": [
        "accuracy_score(y_test, y_pred)"
      ],
      "execution_count": 28,
      "outputs": [
        {
          "output_type": "execute_result",
          "data": {
            "text/plain": [
              "0.761"
            ]
          },
          "metadata": {
            "tags": []
          },
          "execution_count": 28
        }
      ]
    }
  ]
}